{
 "cells": [
  {
   "cell_type": "markdown",
   "metadata": {},
   "source": [
    "# 参考资料\n",
    "[Python中的闭包实例详解](http://www.jb51.net/article/54498.htm)\n",
    "\n",
    "[简单 12 步理解 Python 装饰器](http://python.jobbole.com/85056/)\n",
    "\n",
    "[装饰器](http://www.cnblogs.com/yuanchenqi/articles/5830025.html)\n",
    "\n",
    "[Python之路【第九篇】：Python操作 RabbitMQ、Redis、Memcache、SQLAlchemy](https://www.cnblogs.com/wupeiqi/articles/5132791.html)\n",
    "\n",
    "[python 之路，Day12 - redis缓存数据库](https://www.cnblogs.com/alex3714/articles/6217453.html)"
   ]
  }
 ],
 "metadata": {
  "kernelspec": {
   "display_name": "Python 3",
   "language": "python",
   "name": "python3"
  },
  "language_info": {
   "codemirror_mode": {
    "name": "ipython",
    "version": 3
   },
   "file_extension": ".py",
   "mimetype": "text/x-python",
   "name": "python",
   "nbconvert_exporter": "python",
   "pygments_lexer": "ipython3",
   "version": "3.6.3"
  }
 },
 "nbformat": 4,
 "nbformat_minor": 2
}
